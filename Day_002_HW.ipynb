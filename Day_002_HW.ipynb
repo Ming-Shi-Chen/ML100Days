{
 "cells": [
  {
   "cell_type": "markdown",
   "metadata": {},
   "source": [
    "## [作業目標]\n",
    "了解機器學習適合應用的領域與範疇。"
   ]
  },
  {
   "cell_type": "markdown",
   "metadata": {},
   "source": [
    "## [作業重點]\n",
    "透過瞭解機器學習的運作方式，找出非常適用機器學習應用的領域及其原因"
   ]
  },
  {
   "cell_type": "markdown",
   "metadata": {},
   "source": [
    "## 作業\n",
    "請找出一個你認為機器學習可以發光發熱的領域並闡述原因? "
   ]
  },
  {
   "cell_type": "markdown",
   "metadata": {},
   "source": [
    "  教育\n",
    "  線上教育平台已經蓬勃發展了，在學習上利用軟體輔助，可以達到更好的效果。\n",
    "  教育的成效必須更加量化，在資訊爆炸的時代，學會更有效的吸收資訊\n",
    "  目前在一些背單字 依 學習成效安排新單字，更進階的 可以再分析不同類型的單字，排在附近一起背誦，分析出最有效率的方式。\n",
    "  在各領域學習上也是，運用測驗 評估出需要的學習資源，推薦合適的學習資源，在教育領域該 走向個人化量身訂製的模式了。\n",
    "  甚至在團體課程上也能用AI 來分析分組合作情形， 不斷改進教育模式， 教育不該是 一成不變。"
   ]
  }
 ],
 "metadata": {
  "kernelspec": {
   "display_name": "Python 3",
   "language": "python",
   "name": "python3"
  },
  "language_info": {
   "codemirror_mode": {
    "name": "ipython",
    "version": 3
   },
   "file_extension": ".py",
   "mimetype": "text/x-python",
   "name": "python",
   "nbconvert_exporter": "python",
   "pygments_lexer": "ipython3",
   "version": "3.7.6"
  }
 },
 "nbformat": 4,
 "nbformat_minor": 2
}
